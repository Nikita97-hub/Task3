{
 "cells": [
  {
   "cell_type": "markdown",
   "id": "227953c4-7e4f-4b89-81b1-6bc2af230611",
   "metadata": {},
   "source": [
    "str.upper()  -- it will converts all lowercase characters in a string to uppercase."
   ]
  },
  {
   "cell_type": "markdown",
   "id": "4a73d388-3376-4a92-8906-d2a5e8f1aab3",
   "metadata": {},
   "source": [
    "text = \"hello world\"\n",
    "result = text.upper()\n",
    "print(result) "
   ]
  },
  {
   "cell_type": "markdown",
   "id": "b0538754-500c-45f6-ab9b-3f9c17da6f41",
   "metadata": {},
   "source": [
    "str.lower() -- it will converts all uppercase charecters to  lowercase charecters"
   ]
  },
  {
   "cell_type": "code",
   "execution_count": 13,
   "id": "32cc34be-9d11-4833-9015-0beab11f4e7a",
   "metadata": {},
   "outputs": [
    {
     "name": "stdout",
     "output_type": "stream",
     "text": [
      "hello world\n"
     ]
    }
   ],
   "source": [
    "text = \"HELLO WORLD\"\n",
    "result = text.lower()\n",
    "print(result)"
   ]
  },
  {
   "cell_type": "markdown",
   "id": "c6bd5e21-3d15-449c-b274-8e3ad5e6998f",
   "metadata": {},
   "source": [
    "str.capitalize() --  It will capitalizes the first character of the string."
   ]
  },
  {
   "cell_type": "code",
   "execution_count": 18,
   "id": "89e9d2fb-68af-4465-b34b-2f0ae9f86f04",
   "metadata": {},
   "outputs": [
    {
     "name": "stdout",
     "output_type": "stream",
     "text": [
      "Hello world\n"
     ]
    }
   ],
   "source": [
    "text = \"hello world\"\n",
    "result = text.capitalize()\n",
    "print(result) "
   ]
  },
  {
   "cell_type": "markdown",
   "id": "17c1eb9b-3b9f-4524-b52b-1488afbf5bb9",
   "metadata": {},
   "source": [
    "str.title()it will converts the first character of each word to uppercase."
   ]
  },
  {
   "cell_type": "code",
   "execution_count": 25,
   "id": "1e7a14d1-abb3-458d-813c-cb8ee37c97dd",
   "metadata": {},
   "outputs": [
    {
     "name": "stdout",
     "output_type": "stream",
     "text": [
      "Hello World\n"
     ]
    }
   ],
   "source": [
    "text = \"Hello world\"\n",
    "result = text.title()\n",
    "print(result) "
   ]
  },
  {
   "cell_type": "markdown",
   "id": "6fe00b12-c3a6-4b7a-bdea-e3cd9c822d07",
   "metadata": {},
   "source": [
    "str.strip()=  helps you clean it up by removing those extra spaces from both sides, leaving just the important part of the text."
   ]
  },
  {
   "cell_type": "code",
   "execution_count": 28,
   "id": "5d521b9d-e3ed-409d-b18b-b87eb682de99",
   "metadata": {},
   "outputs": [
    {
     "name": "stdout",
     "output_type": "stream",
     "text": [
      "hello world\n"
     ]
    }
   ],
   "source": [
    "text = \"  hello world  \"\n",
    "result = text.strip()\n",
    "print(result)  "
   ]
  },
  {
   "cell_type": "markdown",
   "id": "7a5ca70b-53e2-4284-bd0c-5469af04b2f5",
   "metadata": {},
   "source": [
    "str.lstrip() is a method in Python that removes any spaces, tabs, or other blank characters from the beginning (left side) of a string."
   ]
  },
  {
   "cell_type": "code",
   "execution_count": 31,
   "id": "befaf762-4044-403e-b137-5eda8f263529",
   "metadata": {},
   "outputs": [
    {
     "name": "stdout",
     "output_type": "stream",
     "text": [
      "hello world\n"
     ]
    }
   ],
   "source": [
    "text = \"  hello world\"\n",
    "result = text.lstrip()\n",
    "print(result) "
   ]
  },
  {
   "cell_type": "markdown",
   "id": "8b9d3f0c-6240-4c8c-9c1a-f43f50d3ea4e",
   "metadata": {},
   "source": [
    "str.rstrip() is a method in Python that removes any spaces, tabs, or other blank characters from the end (Right side) of a string"
   ]
  },
  {
   "cell_type": "code",
   "execution_count": 35,
   "id": "5b48f729-1cd9-4034-b978-6da0ba31cac1",
   "metadata": {},
   "outputs": [
    {
     "name": "stdout",
     "output_type": "stream",
     "text": [
      "hello world  \n"
     ]
    }
   ],
   "source": [
    "text = \"hello world  \"\n",
    "result = text.lstrip()\n",
    "print(result) "
   ]
  },
  {
   "cell_type": "markdown",
   "id": "0457c470-9f1a-4568-a523-561282728022",
   "metadata": {},
   "source": [
    "str.replace(old, new [, count]) -- It will replace old value with new one."
   ]
  },
  {
   "cell_type": "code",
   "execution_count": 44,
   "id": "922c9c54-1aea-41ec-8ef6-c7a8d6c34636",
   "metadata": {},
   "outputs": [
    {
     "name": "stdout",
     "output_type": "stream",
     "text": [
      "hello python\n"
     ]
    }
   ],
   "source": [
    "text = 'hello world'\n",
    "print(text.replace(\"world\", \"python\"))"
   ]
  },
  {
   "cell_type": "markdown",
   "id": "49b22686-c95a-4b60-a68a-30b554dc5334",
   "metadata": {},
   "source": [
    "str.split([sep[, maxsplit]]) -- It will split sentence into worlds."
   ]
  },
  {
   "cell_type": "code",
   "execution_count": 51,
   "id": "a1d95bd2-2b79-4e9a-8d50-f363d4bd6cc7",
   "metadata": {},
   "outputs": [
    {
     "name": "stdout",
     "output_type": "stream",
     "text": [
      "['hello', 'world']\n"
     ]
    }
   ],
   "source": [
    "text = 'hello world'\n",
    "print(text.split())"
   ]
  },
  {
   "cell_type": "markdown",
   "id": "5e0288f0-aa32-4cec-8a2b-1586a8e80edb",
   "metadata": {},
   "source": [
    "str.isalnum() -- Returns True if all characters in the string are alphanumeric , otherwaise false."
   ]
  },
  {
   "cell_type": "code",
   "execution_count": 56,
   "id": "10e556c0-bce4-47c7-bac2-1947ab1ee6c1",
   "metadata": {},
   "outputs": [
    {
     "name": "stdout",
     "output_type": "stream",
     "text": [
      "True\n"
     ]
    }
   ],
   "source": [
    "text='text123'\n",
    "print(text.isalnum())"
   ]
  },
  {
   "cell_type": "markdown",
   "id": "a6d42f2a-2494-4c85-b6d5-6f7152d7050a",
   "metadata": {},
   "source": [
    "str.isalpha()= Returns True if all characters in the string are alphanumeric"
   ]
  },
  {
   "cell_type": "code",
   "execution_count": 59,
   "id": "65c3c489-e2e8-44d2-ae5e-50a72b84e1b0",
   "metadata": {},
   "outputs": [
    {
     "name": "stdout",
     "output_type": "stream",
     "text": [
      "True\n"
     ]
    }
   ],
   "source": [
    "text='world'\n",
    "print(text.isalpha())"
   ]
  },
  {
   "cell_type": "markdown",
   "id": "a2d5bf74-19ea-4053-9e6f-7c433e7f18ae",
   "metadata": {},
   "source": [
    "str.isdigit() = Returns True if all characters in the string are digits. otherwaise False."
   ]
  },
  {
   "cell_type": "code",
   "execution_count": 64,
   "id": "dfcd557e-b5b2-4560-96c5-3b9aa1c5c6d1",
   "metadata": {},
   "outputs": [
    {
     "name": "stdout",
     "output_type": "stream",
     "text": [
      "True\n"
     ]
    }
   ],
   "source": [
    "data = \"12345\"\n",
    "print(data.isdigit()) "
   ]
  },
  {
   "cell_type": "markdown",
   "id": "935504e9-9fcf-4121-9a9a-59d561f4859b",
   "metadata": {},
   "source": [
    "str.zfill(width) = If the string is shorter than the width you specify, it adds zeros at the start until the string reaches that length.\n",
    "If the string is already as long as or longer than the width, it remains unchanged.\n"
   ]
  },
  {
   "cell_type": "code",
   "execution_count": 69,
   "id": "1a739cc6-694a-46bc-8782-e96d46e874d7",
   "metadata": {},
   "outputs": [
    {
     "name": "stdout",
     "output_type": "stream",
     "text": [
      "00420\n"
     ]
    }
   ],
   "source": [
    "s = \"420\"\n",
    "print(s.zfill(5)) "
   ]
  },
  {
   "cell_type": "markdown",
   "id": "0464c4d2-5e9e-4efa-ad3a-8b9f2d761eaa",
   "metadata": {},
   "source": [
    "str.endswith(suffix[, start[, end]]) -- Returns True if the string ends with the substring suffix. Optional start and end parameters specify the range to check."
   ]
  },
  {
   "cell_type": "code",
   "execution_count": 72,
   "id": "40821047-344f-4db9-9c98-ee1b552f232a",
   "metadata": {},
   "outputs": [
    {
     "name": "stdout",
     "output_type": "stream",
     "text": [
      "True\n"
     ]
    }
   ],
   "source": [
    "s = \"hello world\"\n",
    "print(s.endswith(\"world\"))"
   ]
  },
  {
   "cell_type": "markdown",
   "id": "b920f68c-9617-43fc-88ff-4ef439be2851",
   "metadata": {},
   "source": [
    "str.startswith(prefix[, start[, end]]) -- Returns True if the string starts with the substring prefix. Optional start and end parameters specify the range to check.\n"
   ]
  },
  {
   "cell_type": "code",
   "execution_count": 75,
   "id": "3059d164-7f37-424d-87a0-e8155c83de36",
   "metadata": {},
   "outputs": [
    {
     "name": "stdout",
     "output_type": "stream",
     "text": [
      "True\n"
     ]
    }
   ],
   "source": [
    "s = \"hello world\"\n",
    "print(s.startswith(\"hello\")) "
   ]
  },
  {
   "cell_type": "markdown",
   "id": "8fcd5239-12f4-4be4-a21b-f688b3f90516",
   "metadata": {},
   "source": [
    "str.rindex(sub[, start[, end]]) -- Returns the highest index of the substring sub in the string. Raises a ValueError if sub is not found. Optional start and end parameters specify the range to search."
   ]
  },
  {
   "cell_type": "code",
   "execution_count": 78,
   "id": "55d21623-90ea-47ab-b3cb-14658b43aade",
   "metadata": {},
   "outputs": [
    {
     "name": "stdout",
     "output_type": "stream",
     "text": [
      "12\n"
     ]
    }
   ],
   "source": [
    "s = \"hello world world\"\n",
    "print(s.rindex(\"world\"))"
   ]
  },
  {
   "cell_type": "markdown",
   "id": "982ab4f2-d737-43dc-80be-e634b9a63796",
   "metadata": {},
   "source": [
    "str.index(sub[, start[, end]]) -- Returns the lowest index of the substring sub in the string. Raises a ValueError if sub is not found. Optional start and end parameters specify the range to search.\n"
   ]
  },
  {
   "cell_type": "code",
   "execution_count": 81,
   "id": "049bd00c-2220-4b7e-819a-8540dc84baea",
   "metadata": {},
   "outputs": [
    {
     "name": "stdout",
     "output_type": "stream",
     "text": [
      "6\n"
     ]
    }
   ],
   "source": [
    "s = \"hello world\"\n",
    "print(s.index(\"world\"))"
   ]
  },
  {
   "cell_type": "markdown",
   "id": "28780837-1396-4460-9075-778098944262",
   "metadata": {},
   "source": [
    "str.rfind(sub[, start[, end]]) -- Returns the highest index of the substring sub in the string. Returns -1 if sub is not found. Optional start and end parameters specify the range to search.\n"
   ]
  },
  {
   "cell_type": "code",
   "execution_count": 84,
   "id": "a320e7b1-1059-4ea6-be84-4c490aee9802",
   "metadata": {},
   "outputs": [
    {
     "name": "stdout",
     "output_type": "stream",
     "text": [
      "12\n"
     ]
    }
   ],
   "source": [
    "s = \"hello world world\"\n",
    "print(s.rfind(\"world\"))"
   ]
  },
  {
   "cell_type": "markdown",
   "id": "63543e1b-30db-4e59-ae18-04658fa9d135",
   "metadata": {},
   "source": [
    "str.find(sub[, start[, end]]) -- Returns the lowest index of the substring sub in the string. Returns -1 if sub is not found. Optional start and end parameters specify the range to search.\n"
   ]
  },
  {
   "cell_type": "code",
   "execution_count": 89,
   "id": "5367b497-2560-4adc-ab2a-7cf1228fd88a",
   "metadata": {},
   "outputs": [
    {
     "name": "stdout",
     "output_type": "stream",
     "text": [
      "6\n"
     ]
    }
   ],
   "source": [
    "s = \"hello world\"\n",
    "print(s.find(\"world\"))"
   ]
  },
  {
   "cell_type": "markdown",
   "id": "43b8a4c1-f2dd-4f40-88ed-95482e69921b",
   "metadata": {},
   "source": [
    "str.join(iterable) --Returns a string that is the concatenation of the strings in iterable, separated by the string on which join is called."
   ]
  },
  {
   "cell_type": "code",
   "execution_count": 92,
   "id": "904fa262-b692-47f1-92e7-96796c2d8337",
   "metadata": {},
   "outputs": [
    {
     "name": "stdout",
     "output_type": "stream",
     "text": [
      "hello-world\n"
     ]
    }
   ],
   "source": [
    "s = \"-\"\n",
    "iterable = [\"hello\", \"world\"]\n",
    "print(s.join(iterable))"
   ]
  },
  {
   "cell_type": "code",
   "execution_count": null,
   "id": "2807164a-04dc-485a-81b0-9ca3cf109cfb",
   "metadata": {},
   "outputs": [],
   "source": []
  }
 ],
 "metadata": {
  "kernelspec": {
   "display_name": "Python 3 (ipykernel)",
   "language": "python",
   "name": "python3"
  },
  "language_info": {
   "codemirror_mode": {
    "name": "ipython",
    "version": 3
   },
   "file_extension": ".py",
   "mimetype": "text/x-python",
   "name": "python",
   "nbconvert_exporter": "python",
   "pygments_lexer": "ipython3",
   "version": "3.12.4"
  }
 },
 "nbformat": 4,
 "nbformat_minor": 5
}
